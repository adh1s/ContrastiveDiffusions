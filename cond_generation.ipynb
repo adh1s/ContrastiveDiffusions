{
 "cells": [
  {
   "cell_type": "code",
   "execution_count": null,
   "metadata": {},
   "outputs": [],
   "source": [
    "from diffuse.vae_train import Encoder"
   ]
  },
  {
   "cell_type": "code",
   "execution_count": null,
   "metadata": {},
   "outputs": [],
   "source": [
    "from diffuse.conditional import impl_log_likelihood\n",
    "from functools import partial\n",
    "import jax.numpy as jnp\n",
    "\n",
    "# set the backend to be the cpu\n",
    "import jax\n",
    "jax.config.update(\"jax_platform_name\", \"cpu\")\n",
    "\n",
    "encoder = Encoder(32)\n",
    "weight_path = 'vae_model-32/20250310_013841/vae_params.npz'\n",
    "vae_trained = jnp.load(weight_path, allow_pickle=True)\n",
    "encoder_params = vae_trained['encoder'].item()\n",
    "\n",
    "likelihood_fn = partial(impl_log_likelihood, encoder, encoder_params, b=0, a=1, m=0.0001, measurement_noise=0.5)"
   ]
  },
  {
   "cell_type": "code",
   "execution_count": null,
   "metadata": {},
   "outputs": [],
   "source": [
    "from diffuse.conditional import CondSDEImplicit\n",
    "from diffuse.sde import SDE, SDEState\n",
    "from diffuse.sde import LinearSchedule\n",
    "from diffuse.unet import UNet\n",
    "\n",
    "# diffusion hyperparameters\n",
    "tf = 2.0\n",
    "n_t = 256\n",
    "dt = tf / n_t\n",
    "ts = jnp.linspace(0, tf, n_t)\n",
    "dts = jnp.diff(ts)\n",
    "beta = LinearSchedule(b_min=0.02, b_max=5.0, t0=0.0, T=tf)\n",
    "\n",
    "# score network\n",
    "def nn_score(x, t):\n",
    "    return score_net.apply(params, x, t)\n",
    "\n",
    "score_nn_path = \"ann_3499.npz\"\n",
    "score_net = UNet(dt, 64, upsampling=\"pixel_shuffle\")\n",
    "nn_trained = jnp.load(score_nn_path, allow_pickle=True)\n",
    "params = nn_trained[\"params\"].item()\n",
    "\n",
    "# define sde\n",
    "cond_sde = CondSDEImplicit(beta=beta, likelihood_fn=likelihood_fn, tf=tf, score=nn_score)"
   ]
  },
  {
   "cell_type": "code",
   "execution_count": null,
   "metadata": {},
   "outputs": [],
   "source": [
    "import matplotlib.pyplot as plt\n",
    "\n",
    "data = jnp.load(\"dataset/mnist.npz\")\n",
    "xs = jnp.concatenate([data[\"x_train\"], data[\"x_test\"]], axis=0)\n",
    "\n",
    "def preprocess(data): # Normalize to [-1, 1]\n",
    "    max_val = data.max()\n",
    "    min_val = data.min()\n",
    "    data = (data - min_val) / (max_val - min_val) * 2 - 1\n",
    "    return data\n",
    "\n",
    "xs = preprocess(xs)\n",
    "xi = xs[0]\n",
    "plt.imshow(xi.reshape(28, 28), cmap=\"gray\")\n",
    "# add a colorbar\n",
    "plt.colorbar()\n",
    "plt.show()"
   ]
  },
  {
   "cell_type": "code",
   "execution_count": null,
   "metadata": {},
   "outputs": [],
   "source": [
    "from functools import partial\n",
    "\n",
    "key = jax.random.PRNGKey(0)\n",
    "num_generations = 1\n",
    "ground_truth_shape = (28, 28, 1)\n",
    "\n",
    "# Sampling code\n",
    "init_samples = jax.random.normal(key, (num_generations, *ground_truth_shape)) # Sample from prior     \n",
    "keys = jax.random.split(key, num_generations)\n",
    "tfs = jnp.zeros((num_generations,)) + tf\n",
    "state_f = SDEState(position=init_samples, t=tfs)\n",
    "\n",
    "revert_sde = partial(cond_sde.reverso, score=nn_score, dts=dts, y=10, xi=xi) \n",
    "\n",
    "# Denoise\n",
    "state_f, history = jax.vmap(revert_sde)(keys, state_f)"
   ]
  },
  {
   "cell_type": "code",
   "execution_count": null,
   "metadata": {},
   "outputs": [],
   "source": [
    "f, axs = plt.subplots(1, 1, figsize=(10, 5))\n",
    "\n",
    "axs.imshow(state_f.position[0].reshape(28, 28), cmap=\"gray\")\n",
    "axs.set_title(\"Denoised Image\")\n",
    "plt.show()"
   ]
  }
 ],
 "metadata": {
  "kernelspec": {
   "display_name": "diffbed",
   "language": "python",
   "name": "python3"
  },
  "language_info": {
   "codemirror_mode": {
    "name": "ipython",
    "version": 3
   },
   "file_extension": ".py",
   "mimetype": "text/x-python",
   "name": "python",
   "nbconvert_exporter": "python",
   "pygments_lexer": "ipython3",
   "version": "3.10.16"
  }
 },
 "nbformat": 4,
 "nbformat_minor": 2
}
